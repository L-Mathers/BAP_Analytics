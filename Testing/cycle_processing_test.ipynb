{
 "cells": [
  {
   "cell_type": "markdown",
   "metadata": {},
   "source": [
    "# Test for checking cycle test KPI output\n"
   ]
  },
  {
   "cell_type": "markdown",
   "metadata": {},
   "source": [
    "### Give the standard inputs\n",
    "\n",
    "- File path\n",
    "- BAP User Config Options\n",
    "- Test type"
   ]
  },
  {
   "cell_type": "code",
   "execution_count": null,
   "metadata": {},
   "outputs": [],
   "source": [
    "import numpy as np\n",
    "import pandas as pd\n",
    "import json\n",
    "import sys\n",
    "sys.path.append('/Users/liammathers/Github/BAP_Analytics')\n",
    "from Processing_v1 import *\n",
    "from fuzzywuzzy import process, fuzz\n",
    "import matplotlib.pyplot as plt\n",
    "\n",
    "# Iveco\n",
    "file = \"/Users/liammathers/Github/BAP_Analytics/Testing/IV_GO_R115C_005_LP18_549_T25_13-12-2024_AllData.csv\" \n",
    "# BMW\n",
    "file = \"/Users/liammathers/Github/BAP_Analytics/Testing/BMW_LTF_2580_002_10SOC_Cycling_366_T35_26-06-2024_AllData.csv\"\n",
    "# Electra Vehicles\n",
    "# file = \"/Users/liammathers/Downloads/EV_SKE_556_034_SOC100-0_05C-1C_Deg8_558_T25_27-12-2024_AllData.csv\"\n",
    "\n",
    "# Load data\n",
    "data = pd.read_csv(file)\n",
    "\n",
    "\n",
    "# Plot Voltage (V) from the data\n",
    "plt.figure(figsize=(10, 6))\n",
    "plt.plot(data['Current (A)'])\n",
    "plt.show()\n",
    "config_path = \"/Users/liammathers/Github/BAP_Analytics/Config.json\"\n",
    "\n",
    "\n",
    "with open(config_path, 'r') as f:\n",
    "    config = json.load(f)\n",
    "\n",
    "    \n",
    "# Combine sections into one dictionary\n",
    "combined_dict = {\n",
    "    'test_type': 'Aging',\n",
    "    'cell_limits': {\n",
    "        'capacity': 32\n",
    "    },\n",
    "    'user_input': {\n",
    "        'normalize_by_first_cycle': False,\n",
    "        'normalize_by_first_rpt': False\n",
    "    }\n",
    "}\n",
    "\n"
   ]
  },
  {
   "cell_type": "markdown",
   "metadata": {},
   "source": [
    "# Run it through a cycling test"
   ]
  },
  {
   "cell_type": "code",
   "execution_count": null,
   "metadata": {},
   "outputs": [],
   "source": [
    "from IPython.display import display\n",
    "\n",
    "\n",
    "kpi = process_lifetime_test(data, combined_dict, config)\n",
    "\n",
    "kpi.to_csv('/Users/liammathers/Github/BAP_Analytics/Testing/kpi_output.csv', index=False)\n",
    "\n",
    "# Display the first 100 rows of kpi with scrollable columns\n",
    "display(kpi.head(100).style.set_table_attributes('style=\"display:inline\"').set_caption(\"KPI Data\"))"
   ]
  },
  {
   "cell_type": "code",
   "execution_count": null,
   "metadata": {},
   "outputs": [],
   "source": []
  }
 ],
 "metadata": {
  "kernelspec": {
   "display_name": "Python 3",
   "language": "python",
   "name": "python3"
  },
  "language_info": {
   "codemirror_mode": {
    "name": "ipython",
    "version": 3
   },
   "file_extension": ".py",
   "mimetype": "text/x-python",
   "name": "python",
   "nbconvert_exporter": "python",
   "pygments_lexer": "ipython3",
   "version": "3.12.2"
  }
 },
 "nbformat": 4,
 "nbformat_minor": 2
}
