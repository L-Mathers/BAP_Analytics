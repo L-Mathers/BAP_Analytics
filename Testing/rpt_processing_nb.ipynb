{
 "cells": [
  {
   "cell_type": "markdown",
   "metadata": {},
   "source": [
    "### Give the standard inputs\n",
    "\n",
    "- File path\n",
    "- BAP User Config Options\n",
    "- Test type"
   ]
  },
  {
   "cell_type": "code",
   "execution_count": 10,
   "metadata": {},
   "outputs": [
    {
     "data": {
      "image/png": "[encoded data removed]",
      "text/plain": [
       "<Figure size 1000x600 with 1 Axes>"
      ]
     },
     "metadata": {},
     "output_type": "display_data"
    }
   ],
   "source": [
    "import numpy as np\n",
    "import pandas as pd\n",
    "import json\n",
    "import sys\n",
    "sys.path.append('/Users/liammathers/Desktop/Github/BAP_Analytics')\n",
    "from RPT_processing import *\n",
    "\n",
    "from fuzzywuzzy import process, fuzz\n",
    "import matplotlib.pyplot as plt\n",
    "\n",
    "\n",
    "# Cycling data\n",
    "# Iveco\n",
    "file = \"/Users/liammathers/Github/BAP_Analytics/Testing/IV_GO_R115C_005_LP18_549_T25_13-12-2024_AllData.csv\" \n",
    "# BMW\n",
    "file = \"/Users/liammathers/Github/BAP_Analytics/Testing/BMW_LTF_2580_002_10SOC_Cycling_366_T35_26-06-2024_AllData.csv\"\n",
    "# Electra Vehicles\n",
    "# file = \"/Users/liammathers/Downloads/EV_SKE_556_034_SOC100-0_05C-1C_Deg8_558_T25_27-12-2024_AllData.csv\"\n",
    "\n",
    "\n",
    "\n",
    "# RPT data\n",
    "# BMW\n",
    "file = \"/Users/liammathers/Desktop/Github/BAP_Analytics/Testing/20240726_150811_Z61_EVE_C1_ZPg_D00_SN14524.csv\"\n",
    "# Load data\n",
    "data = pd.read_csv(file)\n",
    "\n",
    "\n",
    "\n",
    "# Plot Voltage (V) from the data\n",
    "plt.figure(figsize=(10, 6))\n",
    "plt.plot(data['Current (A)'])\n",
    "plt.show()\n",
    "\n",
    "    \n",
    "\n",
    "\n",
    "\n",
    "\n",
    "  # Example combined input specifying test type and cell limits\n",
    "combined_input = {\n",
    "    'test_type': 'RPT',\n",
    "    'cell_limits': {\n",
    "        \"capacity\": 32.5,\n",
    "    },\n",
    "    'user_input' : {\n",
    "        \"pulse_durations\": [1, 2, 4],\n",
    "        \"voltage_relaxation\": True,\n",
    "        \"special_crates\": [1.0, 2.0]\n",
    "    }\n",
    "}\n"
   ]
  },
  {
   "cell_type": "code",
   "execution_count": 7,
   "metadata": {},
   "outputs": [
    {
     "name": "stdout",
     "output_type": "stream",
     "text": [
      "        pOCV_timeseries special_dch_1.0_max_temp  special_dch_1.0_capacity  \\\n",
      "182514           2.5798                     None                       0.0   \n",
      "182515           2.6796                     None                       0.0   \n",
      "182516           2.6962                     None                       0.0   \n",
      "182517           2.7182                     None                       0.0   \n",
      "182518           2.7452                     None                       0.0   \n",
      "...                 ...                      ...                       ...   \n",
      "182871           3.0488                     None                       0.0   \n",
      "182872           3.0488                     None                       0.0   \n",
      "182873           3.0492                     None                       0.0   \n",
      "182874           3.0492                     None                       0.0   \n",
      "182875           3.0494                     None                       0.0   \n",
      "\n",
      "        special_dch_1.0_duration special_dch_2.0_max_temp  \\\n",
      "182514                     600.0                     None   \n",
      "182515                     600.0                     None   \n",
      "182516                     600.0                     None   \n",
      "182517                     600.0                     None   \n",
      "182518                     600.0                     None   \n",
      "...                          ...                      ...   \n",
      "182871                     600.0                     None   \n",
      "182872                     600.0                     None   \n",
      "182873                     600.0                     None   \n",
      "182874                     600.0                     None   \n",
      "182875                     600.0                     None   \n",
      "\n",
      "        special_dch_2.0_capacity  special_dch_2.0_duration  \n",
      "182514                       0.0                     600.0  \n",
      "182515                       0.0                     600.0  \n",
      "182516                       0.0                     600.0  \n",
      "182517                       0.0                     600.0  \n",
      "182518                       0.0                     600.0  \n",
      "...                          ...                       ...  \n",
      "182871                       0.0                     600.0  \n",
      "182872                       0.0                     600.0  \n",
      "182873                       0.0                     600.0  \n",
      "182874                       0.0                     600.0  \n",
      "182875                       0.0                     600.0  \n",
      "\n",
      "[362 rows x 7 columns]\n"
     ]
    }
   ],
   "source": [
    "kpi_rpt = process_lifetime_test(data, combined_input)\n",
    "\n",
    "print(kpi_rpt)\n"
   ]
  },
  {
   "cell_type": "code",
   "execution_count": null,
   "metadata": {},
   "outputs": [],
   "source": []
  },
  {
   "cell_type": "code",
   "execution_count": null,
   "metadata": {},
   "outputs": [],
   "source": []
  }
 ],
 "metadata": {
  "kernelspec": {
   "display_name": "base",
   "language": "python",
   "name": "python3"
  },
  "language_info": {
   "codemirror_mode": {
    "name": "ipython",
    "version": 3
   },
   "file_extension": ".py",
   "mimetype": "text/x-python",
   "name": "python",
   "nbconvert_exporter": "python",
   "pygments_lexer": "ipython3",
   "version": "3.12.2"
  }
 },
 "nbformat": 4,
 "nbformat_minor": 2
}
