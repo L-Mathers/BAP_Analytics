{
 "cells": [
  {
   "cell_type": "markdown",
   "metadata": {},
   "source": [
    "# plot current\n"
   ]
  },
  {
   "cell_type": "code",
   "execution_count": null,
   "metadata": {},
   "outputs": [],
   "source": [
    "import pandas as pd\n",
    "import plotly.graph_objects as go\n",
    "import plotly.io as pio\n",
    "\n",
    "def plot_data(file_path):\n",
    "    # Read the CSV file\n",
    "    data = pd.read_csv(file_path)\n",
    "    \n",
    "    # Use the known columns from the context\n",
    "    time_col = 'Time[h]'\n",
    "    current_col = 'I[A]'\n",
    "    data[current_col] = data[current_col].apply(lambda x: 0 if abs(x) < .015 else x)\n",
    "    voltage_col = 'U[V]'\n",
    "    ah_dis_set_col = 'Ah-Dis-Set'\n",
    "   \n",
    "    data = data.iloc[::5]\n",
    "\n",
    "    # plot less sampled voltage\n",
    "    fig_voltage_less_sampled = go.Figure()\n",
    "    fig_voltage_less_sampled.add_trace(go.Scatter(x=data[time_col]*3600, y=data[voltage_col], mode='lines', name='Voltage', line=dict(color='orange')))\n",
    "    fig_voltage_less_sampled.update_layout(\n",
    "        title='Lower Sampled Voltage vs Time',\n",
    "        xaxis_title='Time [h]',\n",
    "        yaxis_title='Voltage [V]',\n",
    "        height=400,\n",
    "        width=600\n",
    "    )\n",
    "    # Open the plot in an external web browser\n",
    "    pio.show(fig_voltage_less_sampled, renderer='browser')  \n",
    "\n",
    "    # plot less sampled current\n",
    "    fig_current_less_sampled = go.Figure()\n",
    "    fig_current_less_sampled.add_trace(go.Scatter(x=data[time_col]*3600, y=data[current_col], mode='lines', name='Current', line=dict(color='blue')))\n",
    "    fig_current_less_sampled.update_layout(\n",
    "        title='Lower Sampled Current vs Time',\n",
    "        xaxis_title='Time [h]',\n",
    "        yaxis_title='Current [A]',\n",
    "        height=400,\n",
    "        width=600\n",
    "    )\n",
    "    # Open the plot in an external web browser\n",
    "    pio.show(fig_current_less_sampled, renderer='browser')\n",
    "\n",
    "# Example usage\n",
    "file_path = '/Users/liammathers/Desktop/Github/BAP_Analytics/karcher_data/5_1993_AllData_part_1.csv'\n",
    "plot_data(file_path)\n"
   ]
  },
  {
   "cell_type": "code",
   "execution_count": null,
   "metadata": {},
   "outputs": [],
   "source": [
    "\n"
   ]
  },
  {
   "cell_type": "code",
   "execution_count": null,
   "metadata": {},
   "outputs": [],
   "source": []
  }
 ],
 "metadata": {
  "kernelspec": {
   "display_name": "base",
   "language": "python",
   "name": "python3"
  },
  "language_info": {
   "codemirror_mode": {
    "name": "ipython",
    "version": 3
   },
   "file_extension": ".py",
   "mimetype": "text/x-python",
   "name": "python",
   "nbconvert_exporter": "python",
   "pygments_lexer": "ipython3",
   "version": "3.12.2"
  }
 },
 "nbformat": 4,
 "nbformat_minor": 2
}
